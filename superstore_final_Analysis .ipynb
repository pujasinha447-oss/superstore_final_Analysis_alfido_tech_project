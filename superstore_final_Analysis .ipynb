{
 "cells": [
  {
   "cell_type": "code",
   "execution_count": 47,
   "id": "de6bb057-7252-4f69-82cf-c2ad3a5e208d",
   "metadata": {},
   "outputs": [],
   "source": [
    "import numpy as np\n",
    "import pandas as pd\n",
    "import matplotlib.pyplot as plt #visualizing data\n",
    "%matplotlib inline\n",
    "import seaborn as sns\n",
    "from statsmodels.tsa.stattools import adfuller"
   ]
  },
  {
   "cell_type": "code",
   "execution_count": 6,
   "id": "ca679c2d-ea68-40eb-a440-6fa1d97ba029",
   "metadata": {},
   "outputs": [],
   "source": [
    "#Load the datasets\n",
    "df = pd.read_csv(r'C:\\Users\\arghy\\Downloads\\Alfido_tech\\Superstore sales data\\superstore_final_dataset (1).csv',encoding='unicode_escape')"
   ]
  },
  {
   "cell_type": "code",
   "execution_count": 7,
   "id": "01127053-224b-4ebe-860d-b7b4dcb8f830",
   "metadata": {},
   "outputs": [
    {
     "data": {
      "text/plain": [
       "(9800, 18)"
      ]
     },
     "execution_count": 7,
     "metadata": {},
     "output_type": "execute_result"
    }
   ],
   "source": [
    "df.shape"
   ]
  },
  {
   "cell_type": "markdown",
   "id": "97fcb333-b1e2-480f-863b-80aa73c84f70",
   "metadata": {},
   "source": [
    "**In this file we have 9800 rows and 18 column data.**"
   ]
  },
  {
   "cell_type": "code",
   "execution_count": 8,
   "id": "c968fdc9-b3ce-4684-bf9e-3c89b43161f5",
   "metadata": {},
   "outputs": [
    {
     "data": {
      "text/html": [
       "<div>\n",
       "<style scoped>\n",
       "    .dataframe tbody tr th:only-of-type {\n",
       "        vertical-align: middle;\n",
       "    }\n",
       "\n",
       "    .dataframe tbody tr th {\n",
       "        vertical-align: top;\n",
       "    }\n",
       "\n",
       "    .dataframe thead th {\n",
       "        text-align: right;\n",
       "    }\n",
       "</style>\n",
       "<table border=\"1\" class=\"dataframe\">\n",
       "  <thead>\n",
       "    <tr style=\"text-align: right;\">\n",
       "      <th></th>\n",
       "      <th>Row_ID</th>\n",
       "      <th>Order_ID</th>\n",
       "      <th>Order_Date</th>\n",
       "      <th>Ship_Date</th>\n",
       "      <th>Ship_Mode</th>\n",
       "      <th>Customer_ID</th>\n",
       "      <th>Customer_Name</th>\n",
       "      <th>Segment</th>\n",
       "      <th>Country</th>\n",
       "      <th>City</th>\n",
       "      <th>State</th>\n",
       "      <th>Postal_Code</th>\n",
       "      <th>Region</th>\n",
       "      <th>Product_ID</th>\n",
       "      <th>Category</th>\n",
       "      <th>Sub_Category</th>\n",
       "      <th>Product_Name</th>\n",
       "      <th>Sales</th>\n",
       "    </tr>\n",
       "  </thead>\n",
       "  <tbody>\n",
       "    <tr>\n",
       "      <th>0</th>\n",
       "      <td>1</td>\n",
       "      <td>CA-2017-152156</td>\n",
       "      <td>8/11/2017</td>\n",
       "      <td>11/11/2017</td>\n",
       "      <td>Second Class</td>\n",
       "      <td>CG-12520</td>\n",
       "      <td>Claire Gute</td>\n",
       "      <td>Consumer</td>\n",
       "      <td>United States</td>\n",
       "      <td>Henderson</td>\n",
       "      <td>Kentucky</td>\n",
       "      <td>42420.0</td>\n",
       "      <td>South</td>\n",
       "      <td>FUR-BO-10001798</td>\n",
       "      <td>Furniture</td>\n",
       "      <td>Bookcases</td>\n",
       "      <td>Bush Somerset Collection Bookcase</td>\n",
       "      <td>261.9600</td>\n",
       "    </tr>\n",
       "    <tr>\n",
       "      <th>1</th>\n",
       "      <td>2</td>\n",
       "      <td>CA-2017-152156</td>\n",
       "      <td>8/11/2017</td>\n",
       "      <td>11/11/2017</td>\n",
       "      <td>Second Class</td>\n",
       "      <td>CG-12520</td>\n",
       "      <td>Claire Gute</td>\n",
       "      <td>Consumer</td>\n",
       "      <td>United States</td>\n",
       "      <td>Henderson</td>\n",
       "      <td>Kentucky</td>\n",
       "      <td>42420.0</td>\n",
       "      <td>South</td>\n",
       "      <td>FUR-CH-10000454</td>\n",
       "      <td>Furniture</td>\n",
       "      <td>Chairs</td>\n",
       "      <td>Hon Deluxe Fabric Upholstered Stacking Chairs,...</td>\n",
       "      <td>731.9400</td>\n",
       "    </tr>\n",
       "    <tr>\n",
       "      <th>2</th>\n",
       "      <td>3</td>\n",
       "      <td>CA-2017-138688</td>\n",
       "      <td>12/6/2017</td>\n",
       "      <td>16/06/2017</td>\n",
       "      <td>Second Class</td>\n",
       "      <td>DV-13045</td>\n",
       "      <td>Darrin Van Huff</td>\n",
       "      <td>Corporate</td>\n",
       "      <td>United States</td>\n",
       "      <td>Los Angeles</td>\n",
       "      <td>California</td>\n",
       "      <td>90036.0</td>\n",
       "      <td>West</td>\n",
       "      <td>OFF-LA-10000240</td>\n",
       "      <td>Office Supplies</td>\n",
       "      <td>Labels</td>\n",
       "      <td>Self-Adhesive Address Labels for Typewriters b...</td>\n",
       "      <td>14.6200</td>\n",
       "    </tr>\n",
       "    <tr>\n",
       "      <th>3</th>\n",
       "      <td>4</td>\n",
       "      <td>US-2016-108966</td>\n",
       "      <td>11/10/2016</td>\n",
       "      <td>18/10/2016</td>\n",
       "      <td>Standard Class</td>\n",
       "      <td>SO-20335</td>\n",
       "      <td>Sean O Donnel</td>\n",
       "      <td>Consumer</td>\n",
       "      <td>United States</td>\n",
       "      <td>Fort Lauderdale</td>\n",
       "      <td>Florida</td>\n",
       "      <td>33311.0</td>\n",
       "      <td>South</td>\n",
       "      <td>FUR-TA-10000577</td>\n",
       "      <td>Furniture</td>\n",
       "      <td>Tables</td>\n",
       "      <td>Bretford CR4500 Series Slim Rectangular Table</td>\n",
       "      <td>957.5775</td>\n",
       "    </tr>\n",
       "    <tr>\n",
       "      <th>4</th>\n",
       "      <td>5</td>\n",
       "      <td>US-2016-108966</td>\n",
       "      <td>11/10/2016</td>\n",
       "      <td>18/10/2016</td>\n",
       "      <td>Standard Class</td>\n",
       "      <td>SO-20335</td>\n",
       "      <td>Sean O Donnel</td>\n",
       "      <td>Consumer</td>\n",
       "      <td>United States</td>\n",
       "      <td>Fort Lauderdale</td>\n",
       "      <td>Florida</td>\n",
       "      <td>33311.0</td>\n",
       "      <td>South</td>\n",
       "      <td>OFF-ST-10000760</td>\n",
       "      <td>Office Supplies</td>\n",
       "      <td>Storage</td>\n",
       "      <td>Eldon Fold N Roll Cart System</td>\n",
       "      <td>22.3680</td>\n",
       "    </tr>\n",
       "  </tbody>\n",
       "</table>\n",
       "</div>"
      ],
      "text/plain": [
       "   Row_ID        Order_ID  Order_Date   Ship_Date       Ship_Mode Customer_ID  \\\n",
       "0       1  CA-2017-152156   8/11/2017  11/11/2017    Second Class    CG-12520   \n",
       "1       2  CA-2017-152156   8/11/2017  11/11/2017    Second Class    CG-12520   \n",
       "2       3  CA-2017-138688   12/6/2017  16/06/2017    Second Class    DV-13045   \n",
       "3       4  US-2016-108966  11/10/2016  18/10/2016  Standard Class    SO-20335   \n",
       "4       5  US-2016-108966  11/10/2016  18/10/2016  Standard Class    SO-20335   \n",
       "\n",
       "     Customer_Name    Segment        Country             City       State  \\\n",
       "0      Claire Gute   Consumer  United States        Henderson    Kentucky   \n",
       "1      Claire Gute   Consumer  United States        Henderson    Kentucky   \n",
       "2  Darrin Van Huff  Corporate  United States      Los Angeles  California   \n",
       "3    Sean O Donnel   Consumer  United States  Fort Lauderdale     Florida   \n",
       "4    Sean O Donnel   Consumer  United States  Fort Lauderdale     Florida   \n",
       "\n",
       "   Postal_Code Region       Product_ID         Category Sub_Category  \\\n",
       "0      42420.0  South  FUR-BO-10001798        Furniture    Bookcases   \n",
       "1      42420.0  South  FUR-CH-10000454        Furniture       Chairs   \n",
       "2      90036.0   West  OFF-LA-10000240  Office Supplies       Labels   \n",
       "3      33311.0  South  FUR-TA-10000577        Furniture       Tables   \n",
       "4      33311.0  South  OFF-ST-10000760  Office Supplies      Storage   \n",
       "\n",
       "                                        Product_Name     Sales  \n",
       "0                  Bush Somerset Collection Bookcase  261.9600  \n",
       "1  Hon Deluxe Fabric Upholstered Stacking Chairs,...  731.9400  \n",
       "2  Self-Adhesive Address Labels for Typewriters b...   14.6200  \n",
       "3      Bretford CR4500 Series Slim Rectangular Table  957.5775  \n",
       "4                      Eldon Fold N Roll Cart System   22.3680  "
      ]
     },
     "execution_count": 8,
     "metadata": {},
     "output_type": "execute_result"
    }
   ],
   "source": [
    "df.head()"
   ]
  },
  {
   "cell_type": "code",
   "execution_count": 9,
   "id": "81a9f50f-df2d-4957-8bcc-b396903230fc",
   "metadata": {},
   "outputs": [
    {
     "name": "stdout",
     "output_type": "stream",
     "text": [
      "<class 'pandas.core.frame.DataFrame'>\n",
      "RangeIndex: 9800 entries, 0 to 9799\n",
      "Data columns (total 18 columns):\n",
      " #   Column         Non-Null Count  Dtype  \n",
      "---  ------         --------------  -----  \n",
      " 0   Row_ID         9800 non-null   int64  \n",
      " 1   Order_ID       9800 non-null   object \n",
      " 2   Order_Date     9800 non-null   object \n",
      " 3   Ship_Date      9800 non-null   object \n",
      " 4   Ship_Mode      9800 non-null   object \n",
      " 5   Customer_ID    9800 non-null   object \n",
      " 6   Customer_Name  9800 non-null   object \n",
      " 7   Segment        9800 non-null   object \n",
      " 8   Country        9800 non-null   object \n",
      " 9   City           9800 non-null   object \n",
      " 10  State          9800 non-null   object \n",
      " 11  Postal_Code    9789 non-null   float64\n",
      " 12  Region         9800 non-null   object \n",
      " 13  Product_ID     9800 non-null   object \n",
      " 14  Category       9800 non-null   object \n",
      " 15  Sub_Category   9800 non-null   object \n",
      " 16  Product_Name   9800 non-null   object \n",
      " 17  Sales          9800 non-null   float64\n",
      "dtypes: float64(2), int64(1), object(15)\n",
      "memory usage: 1.3+ MB\n"
     ]
    }
   ],
   "source": [
    "df.info()"
   ]
  },
  {
   "cell_type": "code",
   "execution_count": 10,
   "id": "849945de-9bbf-4c4d-aa2a-7a6b78e4e8b6",
   "metadata": {},
   "outputs": [
    {
     "data": {
      "text/plain": [
       "Row_ID            0\n",
       "Order_ID          0\n",
       "Order_Date        0\n",
       "Ship_Date         0\n",
       "Ship_Mode         0\n",
       "Customer_ID       0\n",
       "Customer_Name     0\n",
       "Segment           0\n",
       "Country           0\n",
       "City              0\n",
       "State             0\n",
       "Postal_Code      11\n",
       "Region            0\n",
       "Product_ID        0\n",
       "Category          0\n",
       "Sub_Category      0\n",
       "Product_Name      0\n",
       "Sales             0\n",
       "dtype: int64"
      ]
     },
     "execution_count": 10,
     "metadata": {},
     "output_type": "execute_result"
    }
   ],
   "source": [
    "#check for null values\n",
    "pd.isnull(df).sum()"
   ]
  },
  {
   "cell_type": "markdown",
   "id": "d3ffff61-b7ae-48a1-9d54-f939e796eae5",
   "metadata": {},
   "source": [
    "**Based on the info, the 'Postal_Code' column have missing values.**"
   ]
  },
  {
   "cell_type": "code",
   "execution_count": 11,
   "id": "aba58097-fb21-4acc-8641-0e906c432a73",
   "metadata": {},
   "outputs": [],
   "source": [
    "#drop null values\n",
    "df.dropna(inplace=True)"
   ]
  },
  {
   "cell_type": "code",
   "execution_count": 12,
   "id": "d18f901d-6b2d-4991-9789-edf9826e9ffd",
   "metadata": {},
   "outputs": [
    {
     "data": {
      "text/plain": [
       "Row_ID           0\n",
       "Order_ID         0\n",
       "Order_Date       0\n",
       "Ship_Date        0\n",
       "Ship_Mode        0\n",
       "Customer_ID      0\n",
       "Customer_Name    0\n",
       "Segment          0\n",
       "Country          0\n",
       "City             0\n",
       "State            0\n",
       "Postal_Code      0\n",
       "Region           0\n",
       "Product_ID       0\n",
       "Category         0\n",
       "Sub_Category     0\n",
       "Product_Name     0\n",
       "Sales            0\n",
       "dtype: int64"
      ]
     },
     "execution_count": 12,
     "metadata": {},
     "output_type": "execute_result"
    }
   ],
   "source": [
    "#Again check for null values\n",
    "pd.isnull(df).sum()"
   ]
  },
  {
   "cell_type": "markdown",
   "id": "1010b18c-9303-4349-9c4e-8c149d2eaea1",
   "metadata": {},
   "source": [
    "**Now the problem is solved. There are no null values in the 'Postal_Code' column.**"
   ]
  },
  {
   "cell_type": "code",
   "execution_count": 13,
   "id": "cdb22f62-0d75-4bc2-adc5-5a0d386960cb",
   "metadata": {},
   "outputs": [
    {
     "name": "stdout",
     "output_type": "stream",
     "text": [
      "<class 'pandas.core.frame.DataFrame'>\n",
      "Index: 9789 entries, 0 to 9799\n",
      "Data columns (total 18 columns):\n",
      " #   Column         Non-Null Count  Dtype  \n",
      "---  ------         --------------  -----  \n",
      " 0   Row_ID         9789 non-null   int64  \n",
      " 1   Order_ID       9789 non-null   object \n",
      " 2   Order_Date     9789 non-null   object \n",
      " 3   Ship_Date      9789 non-null   object \n",
      " 4   Ship_Mode      9789 non-null   object \n",
      " 5   Customer_ID    9789 non-null   object \n",
      " 6   Customer_Name  9789 non-null   object \n",
      " 7   Segment        9789 non-null   object \n",
      " 8   Country        9789 non-null   object \n",
      " 9   City           9789 non-null   object \n",
      " 10  State          9789 non-null   object \n",
      " 11  Postal_Code    9789 non-null   float64\n",
      " 12  Region         9789 non-null   object \n",
      " 13  Product_ID     9789 non-null   object \n",
      " 14  Category       9789 non-null   object \n",
      " 15  Sub_Category   9789 non-null   object \n",
      " 16  Product_Name   9789 non-null   object \n",
      " 17  Sales          9789 non-null   float64\n",
      "dtypes: float64(2), int64(1), object(15)\n",
      "memory usage: 1.4+ MB\n"
     ]
    }
   ],
   "source": [
    "df.info()"
   ]
  },
  {
   "cell_type": "code",
   "execution_count": 14,
   "id": "d5c8a0da-4099-4a49-89cd-2ca83da085f5",
   "metadata": {},
   "outputs": [],
   "source": [
    "#Convert Data Types\n",
    "df['Order_Date'] = pd.to_datetime(df['Order_Date'], dayfirst=True, errors='coerce')\n",
    "df['Ship_Date'] = pd.to_datetime(df['Ship_Date'], dayfirst=True, errors='coerce')"
   ]
  },
  {
   "cell_type": "code",
   "execution_count": 25,
   "id": "9e371edf-bb19-4460-b65f-942fe628f2f6",
   "metadata": {},
   "outputs": [
    {
     "name": "stdout",
     "output_type": "stream",
     "text": [
      "Index(['Order_ID', 'Order_Date', 'Ship_Date', 'Ship_Mode', 'Customer_ID',\n",
      "       'Customer_Name', 'Segment', 'City', 'State', 'Postal_Code', 'Region',\n",
      "       'Product_ID', 'Category', 'Sub_Category', 'Product_Name', 'Sales'],\n",
      "      dtype='object')\n"
     ]
    }
   ],
   "source": [
    "# Drop both columns at once\n",
    "df = df.drop(columns=['Row_ID', 'Country'])\n",
    "\n",
    "# Check if they are gone\n",
    "print(df.columns)"
   ]
  },
  {
   "cell_type": "markdown",
   "id": "0d418b39-4a7c-4d9c-bfc1-b54de6e09164",
   "metadata": {},
   "source": [
    "**Row_ID** can be dropped because it **is just a serial number and adds no value**, while **Country** can be removed since it only **has one value (“United States”)**, which gives no useful insight."
   ]
  },
  {
   "cell_type": "code",
   "execution_count": 17,
   "id": "8708d77d-bb82-48eb-a2e9-afa309dfd4c8",
   "metadata": {},
   "outputs": [
    {
     "data": {
      "text/plain": [
       "np.int64(0)"
      ]
     },
     "execution_count": 17,
     "metadata": {},
     "output_type": "execute_result"
    }
   ],
   "source": [
    "#Check for Duplicates\n",
    "df.duplicated().sum()"
   ]
  },
  {
   "cell_type": "code",
   "execution_count": 18,
   "id": "7981d417-c9cd-41a5-ac30-e22b729aac9e",
   "metadata": {},
   "outputs": [],
   "source": [
    "# Strip spaces and make consistent case (title case for city/state, proper case for names)\n",
    "df['Customer_Name'] = df['Customer_Name'].str.strip()\n",
    "df['City'] = df['City'].str.strip().str.title()\n",
    "df['State'] = df['State'].str.strip().str.title()"
   ]
  },
  {
   "cell_type": "code",
   "execution_count": 22,
   "id": "9ce34653-ad04-4241-8426-e23b27011ac6",
   "metadata": {},
   "outputs": [
    {
     "name": "stdout",
     "output_type": "stream",
     "text": [
      "['Henderson' 'Los Angeles' 'Fort Lauderdale' 'Concord' 'Seattle'\n",
      " 'Fort Worth' 'Madison' 'West Jordan' 'San Francisco' 'Fremont']\n",
      "['Kentucky' 'California' 'Florida' 'North Carolina' 'Washington' 'Texas'\n",
      " 'Wisconsin' 'Utah' 'Nebraska' 'Pennsylvania']\n",
      "['Claire Gute' 'Darrin Van Huff' 'Sean O Donnel' 'Brosina Hoffman'\n",
      " 'Andrew Allen' 'Irene Maddox' 'Harold Pawlan' 'Pete Kriz'\n",
      " 'Alejandro Grove' 'Zuschuss Donatelli']\n"
     ]
    }
   ],
   "source": [
    "# Check sample unique values\n",
    "print(df['City'].unique()[:10])\n",
    "print(df['State'].unique()[:10])\n",
    "print(df['Customer_Name'].unique()[:10])"
   ]
  },
  {
   "cell_type": "code",
   "execution_count": 23,
   "id": "e6dc825a-e21b-414b-90cd-a1682e9578d2",
   "metadata": {},
   "outputs": [
    {
     "name": "stdout",
     "output_type": "stream",
     "text": [
      "<class 'pandas.core.frame.DataFrame'>\n",
      "Index: 9789 entries, 0 to 9799\n",
      "Data columns (total 18 columns):\n",
      " #   Column         Non-Null Count  Dtype         \n",
      "---  ------         --------------  -----         \n",
      " 0   Row_ID         9789 non-null   int64         \n",
      " 1   Order_ID       9789 non-null   object        \n",
      " 2   Order_Date     9789 non-null   datetime64[ns]\n",
      " 3   Ship_Date      9789 non-null   datetime64[ns]\n",
      " 4   Ship_Mode      9789 non-null   object        \n",
      " 5   Customer_ID    9789 non-null   object        \n",
      " 6   Customer_Name  9789 non-null   object        \n",
      " 7   Segment        9789 non-null   object        \n",
      " 8   Country        9789 non-null   object        \n",
      " 9   City           9789 non-null   object        \n",
      " 10  State          9789 non-null   object        \n",
      " 11  Postal_Code    9789 non-null   float64       \n",
      " 12  Region         9789 non-null   object        \n",
      " 13  Product_ID     9789 non-null   object        \n",
      " 14  Category       9789 non-null   object        \n",
      " 15  Sub_Category   9789 non-null   object        \n",
      " 16  Product_Name   9789 non-null   object        \n",
      " 17  Sales          9789 non-null   float64       \n",
      "dtypes: datetime64[ns](2), float64(2), int64(1), object(13)\n",
      "memory usage: 1.4+ MB\n"
     ]
    }
   ],
   "source": [
    "df.info()"
   ]
  },
  {
   "cell_type": "code",
   "execution_count": 24,
   "id": "983b5e05-14a8-48c7-bcea-bd593faa1e4d",
   "metadata": {},
   "outputs": [],
   "source": [
    "df['Postal_Code'] = df['Postal_Code'].astype(int).astype(str)"
   ]
  },
  {
   "cell_type": "code",
   "execution_count": 26,
   "id": "359dd043-0ad2-49a8-92c7-65f08b97b9ea",
   "metadata": {},
   "outputs": [
    {
     "name": "stdout",
     "output_type": "stream",
     "text": [
      "<class 'pandas.core.frame.DataFrame'>\n",
      "Index: 9789 entries, 0 to 9799\n",
      "Data columns (total 16 columns):\n",
      " #   Column         Non-Null Count  Dtype         \n",
      "---  ------         --------------  -----         \n",
      " 0   Order_ID       9789 non-null   object        \n",
      " 1   Order_Date     9789 non-null   datetime64[ns]\n",
      " 2   Ship_Date      9789 non-null   datetime64[ns]\n",
      " 3   Ship_Mode      9789 non-null   object        \n",
      " 4   Customer_ID    9789 non-null   object        \n",
      " 5   Customer_Name  9789 non-null   object        \n",
      " 6   Segment        9789 non-null   object        \n",
      " 7   City           9789 non-null   object        \n",
      " 8   State          9789 non-null   object        \n",
      " 9   Postal_Code    9789 non-null   object        \n",
      " 10  Region         9789 non-null   object        \n",
      " 11  Product_ID     9789 non-null   object        \n",
      " 12  Category       9789 non-null   object        \n",
      " 13  Sub_Category   9789 non-null   object        \n",
      " 14  Product_Name   9789 non-null   object        \n",
      " 15  Sales          9789 non-null   float64       \n",
      "dtypes: datetime64[ns](2), float64(1), object(13)\n",
      "memory usage: 1.3+ MB\n"
     ]
    }
   ],
   "source": [
    "df.info()"
   ]
  },
  {
   "cell_type": "code",
   "execution_count": 27,
   "id": "35071f40-3ff5-4aac-a796-56909d8141a2",
   "metadata": {},
   "outputs": [
    {
     "name": "stdout",
     "output_type": "stream",
     "text": [
      "Duplicates by ['Order_ID', 'Product_ID']: 8\n"
     ]
    },
    {
     "data": {
      "text/html": [
       "<div>\n",
       "<style scoped>\n",
       "    .dataframe tbody tr th:only-of-type {\n",
       "        vertical-align: middle;\n",
       "    }\n",
       "\n",
       "    .dataframe tbody tr th {\n",
       "        vertical-align: top;\n",
       "    }\n",
       "\n",
       "    .dataframe thead th {\n",
       "        text-align: right;\n",
       "    }\n",
       "</style>\n",
       "<table border=\"1\" class=\"dataframe\">\n",
       "  <thead>\n",
       "    <tr style=\"text-align: right;\">\n",
       "      <th></th>\n",
       "      <th>Order_ID</th>\n",
       "      <th>Order_Date</th>\n",
       "      <th>Ship_Date</th>\n",
       "      <th>Ship_Mode</th>\n",
       "      <th>Customer_ID</th>\n",
       "      <th>Customer_Name</th>\n",
       "      <th>Segment</th>\n",
       "      <th>City</th>\n",
       "      <th>State</th>\n",
       "      <th>Postal_Code</th>\n",
       "      <th>Region</th>\n",
       "      <th>Product_ID</th>\n",
       "      <th>Category</th>\n",
       "      <th>Sub_Category</th>\n",
       "      <th>Product_Name</th>\n",
       "      <th>Sales</th>\n",
       "    </tr>\n",
       "  </thead>\n",
       "  <tbody>\n",
       "    <tr>\n",
       "      <th>6498</th>\n",
       "      <td>CA-2016-103135</td>\n",
       "      <td>2016-07-24</td>\n",
       "      <td>2016-07-28</td>\n",
       "      <td>Standard Class</td>\n",
       "      <td>SS-20515</td>\n",
       "      <td>Shirley Schmidt</td>\n",
       "      <td>Home Office</td>\n",
       "      <td>Louisville</td>\n",
       "      <td>Kentucky</td>\n",
       "      <td>40214</td>\n",
       "      <td>South</td>\n",
       "      <td>OFF-BI-10000069</td>\n",
       "      <td>Office Supplies</td>\n",
       "      <td>Binders</td>\n",
       "      <td>GBC Prepunched Paper, 19-Hole, for Binding Sys...</td>\n",
       "      <td>135.090</td>\n",
       "    </tr>\n",
       "    <tr>\n",
       "      <th>6500</th>\n",
       "      <td>CA-2016-103135</td>\n",
       "      <td>2016-07-24</td>\n",
       "      <td>2016-07-28</td>\n",
       "      <td>Standard Class</td>\n",
       "      <td>SS-20515</td>\n",
       "      <td>Shirley Schmidt</td>\n",
       "      <td>Home Office</td>\n",
       "      <td>Louisville</td>\n",
       "      <td>Kentucky</td>\n",
       "      <td>40214</td>\n",
       "      <td>South</td>\n",
       "      <td>OFF-BI-10000069</td>\n",
       "      <td>Office Supplies</td>\n",
       "      <td>Binders</td>\n",
       "      <td>GBC Prepunched Paper, 19-Hole, for Binding Sys...</td>\n",
       "      <td>90.060</td>\n",
       "    </tr>\n",
       "    <tr>\n",
       "      <th>350</th>\n",
       "      <td>CA-2017-129714</td>\n",
       "      <td>2017-09-01</td>\n",
       "      <td>2017-09-03</td>\n",
       "      <td>First Class</td>\n",
       "      <td>AB-10060</td>\n",
       "      <td>Adam Bellavance</td>\n",
       "      <td>Home Office</td>\n",
       "      <td>New York City</td>\n",
       "      <td>New York</td>\n",
       "      <td>10009</td>\n",
       "      <td>East</td>\n",
       "      <td>OFF-PA-10001970</td>\n",
       "      <td>Office Supplies</td>\n",
       "      <td>Paper</td>\n",
       "      <td>Xerox 1881</td>\n",
       "      <td>24.560</td>\n",
       "    </tr>\n",
       "    <tr>\n",
       "      <th>352</th>\n",
       "      <td>CA-2017-129714</td>\n",
       "      <td>2017-09-01</td>\n",
       "      <td>2017-09-03</td>\n",
       "      <td>First Class</td>\n",
       "      <td>AB-10060</td>\n",
       "      <td>Adam Bellavance</td>\n",
       "      <td>Home Office</td>\n",
       "      <td>New York City</td>\n",
       "      <td>New York</td>\n",
       "      <td>10009</td>\n",
       "      <td>East</td>\n",
       "      <td>OFF-PA-10001970</td>\n",
       "      <td>Office Supplies</td>\n",
       "      <td>Paper</td>\n",
       "      <td>Xerox 1881</td>\n",
       "      <td>49.120</td>\n",
       "    </tr>\n",
       "    <tr>\n",
       "      <th>1300</th>\n",
       "      <td>CA-2017-137043</td>\n",
       "      <td>2017-12-23</td>\n",
       "      <td>2017-12-25</td>\n",
       "      <td>Second Class</td>\n",
       "      <td>LC-17140</td>\n",
       "      <td>Logan Currie</td>\n",
       "      <td>Consumer</td>\n",
       "      <td>Springfield</td>\n",
       "      <td>Virginia</td>\n",
       "      <td>22153</td>\n",
       "      <td>South</td>\n",
       "      <td>FUR-FU-10003664</td>\n",
       "      <td>Furniture</td>\n",
       "      <td>Furnishings</td>\n",
       "      <td>Electrix Architects Clamp-On Swing Arm Lamp, B...</td>\n",
       "      <td>572.760</td>\n",
       "    </tr>\n",
       "    <tr>\n",
       "      <th>1301</th>\n",
       "      <td>CA-2017-137043</td>\n",
       "      <td>2017-12-23</td>\n",
       "      <td>2017-12-25</td>\n",
       "      <td>Second Class</td>\n",
       "      <td>LC-17140</td>\n",
       "      <td>Logan Currie</td>\n",
       "      <td>Consumer</td>\n",
       "      <td>Springfield</td>\n",
       "      <td>Virginia</td>\n",
       "      <td>22153</td>\n",
       "      <td>South</td>\n",
       "      <td>FUR-FU-10003664</td>\n",
       "      <td>Furniture</td>\n",
       "      <td>Furnishings</td>\n",
       "      <td>Electrix Architects Clamp-On Swing Arm Lamp, B...</td>\n",
       "      <td>286.380</td>\n",
       "    </tr>\n",
       "    <tr>\n",
       "      <th>9168</th>\n",
       "      <td>CA-2017-140571</td>\n",
       "      <td>2017-03-15</td>\n",
       "      <td>2017-03-19</td>\n",
       "      <td>Standard Class</td>\n",
       "      <td>SJ-20125</td>\n",
       "      <td>Sanjit Jacobs</td>\n",
       "      <td>Home Office</td>\n",
       "      <td>Jackson</td>\n",
       "      <td>Mississippi</td>\n",
       "      <td>39212</td>\n",
       "      <td>South</td>\n",
       "      <td>OFF-PA-10001954</td>\n",
       "      <td>Office Supplies</td>\n",
       "      <td>Paper</td>\n",
       "      <td>Xerox 1964</td>\n",
       "      <td>319.760</td>\n",
       "    </tr>\n",
       "    <tr>\n",
       "      <th>9169</th>\n",
       "      <td>CA-2017-140571</td>\n",
       "      <td>2017-03-15</td>\n",
       "      <td>2017-03-19</td>\n",
       "      <td>Standard Class</td>\n",
       "      <td>SJ-20125</td>\n",
       "      <td>Sanjit Jacobs</td>\n",
       "      <td>Home Office</td>\n",
       "      <td>Jackson</td>\n",
       "      <td>Mississippi</td>\n",
       "      <td>39212</td>\n",
       "      <td>South</td>\n",
       "      <td>OFF-PA-10001954</td>\n",
       "      <td>Office Supplies</td>\n",
       "      <td>Paper</td>\n",
       "      <td>Xerox 1964</td>\n",
       "      <td>45.680</td>\n",
       "    </tr>\n",
       "    <tr>\n",
       "      <th>7881</th>\n",
       "      <td>CA-2018-118017</td>\n",
       "      <td>2018-12-03</td>\n",
       "      <td>2018-12-06</td>\n",
       "      <td>Second Class</td>\n",
       "      <td>LC-16870</td>\n",
       "      <td>Lena Cacioppo</td>\n",
       "      <td>Consumer</td>\n",
       "      <td>Thornton</td>\n",
       "      <td>Colorado</td>\n",
       "      <td>80229</td>\n",
       "      <td>West</td>\n",
       "      <td>TEC-AC-10002006</td>\n",
       "      <td>Technology</td>\n",
       "      <td>Accessories</td>\n",
       "      <td>Memorex Micro Travel Drive 16 GB</td>\n",
       "      <td>76.752</td>\n",
       "    </tr>\n",
       "    <tr>\n",
       "      <th>7882</th>\n",
       "      <td>CA-2018-118017</td>\n",
       "      <td>2018-12-03</td>\n",
       "      <td>2018-12-06</td>\n",
       "      <td>Second Class</td>\n",
       "      <td>LC-16870</td>\n",
       "      <td>Lena Cacioppo</td>\n",
       "      <td>Consumer</td>\n",
       "      <td>Thornton</td>\n",
       "      <td>Colorado</td>\n",
       "      <td>80229</td>\n",
       "      <td>West</td>\n",
       "      <td>TEC-AC-10002006</td>\n",
       "      <td>Technology</td>\n",
       "      <td>Accessories</td>\n",
       "      <td>Memorex Micro Travel Drive 16 GB</td>\n",
       "      <td>102.336</td>\n",
       "    </tr>\n",
       "    <tr>\n",
       "      <th>3183</th>\n",
       "      <td>CA-2018-152912</td>\n",
       "      <td>2018-11-09</td>\n",
       "      <td>2018-11-12</td>\n",
       "      <td>Second Class</td>\n",
       "      <td>BM-11650</td>\n",
       "      <td>Brian Moss</td>\n",
       "      <td>Corporate</td>\n",
       "      <td>Columbia</td>\n",
       "      <td>Maryland</td>\n",
       "      <td>21044</td>\n",
       "      <td>East</td>\n",
       "      <td>OFF-ST-10003208</td>\n",
       "      <td>Office Supplies</td>\n",
       "      <td>Storage</td>\n",
       "      <td>Adjustable Depth Letter/Legal Cart</td>\n",
       "      <td>1633.140</td>\n",
       "    </tr>\n",
       "    <tr>\n",
       "      <th>3184</th>\n",
       "      <td>CA-2018-152912</td>\n",
       "      <td>2018-11-09</td>\n",
       "      <td>2018-11-12</td>\n",
       "      <td>Second Class</td>\n",
       "      <td>BM-11650</td>\n",
       "      <td>Brian Moss</td>\n",
       "      <td>Corporate</td>\n",
       "      <td>Columbia</td>\n",
       "      <td>Maryland</td>\n",
       "      <td>21044</td>\n",
       "      <td>East</td>\n",
       "      <td>OFF-ST-10003208</td>\n",
       "      <td>Office Supplies</td>\n",
       "      <td>Storage</td>\n",
       "      <td>Adjustable Depth Letter/Legal Cart</td>\n",
       "      <td>544.380</td>\n",
       "    </tr>\n",
       "    <tr>\n",
       "      <th>3405</th>\n",
       "      <td>US-2015-150119</td>\n",
       "      <td>2015-04-23</td>\n",
       "      <td>2015-04-27</td>\n",
       "      <td>Standard Class</td>\n",
       "      <td>LB-16795</td>\n",
       "      <td>Laurel Beltran</td>\n",
       "      <td>Home Office</td>\n",
       "      <td>Columbus</td>\n",
       "      <td>Ohio</td>\n",
       "      <td>43229</td>\n",
       "      <td>East</td>\n",
       "      <td>FUR-CH-10002965</td>\n",
       "      <td>Furniture</td>\n",
       "      <td>Chairs</td>\n",
       "      <td>Global Leather Highback Executive Chair with P...</td>\n",
       "      <td>281.372</td>\n",
       "    </tr>\n",
       "    <tr>\n",
       "      <th>3406</th>\n",
       "      <td>US-2015-150119</td>\n",
       "      <td>2015-04-23</td>\n",
       "      <td>2015-04-27</td>\n",
       "      <td>Standard Class</td>\n",
       "      <td>LB-16795</td>\n",
       "      <td>Laurel Beltran</td>\n",
       "      <td>Home Office</td>\n",
       "      <td>Columbus</td>\n",
       "      <td>Ohio</td>\n",
       "      <td>43229</td>\n",
       "      <td>East</td>\n",
       "      <td>FUR-CH-10002965</td>\n",
       "      <td>Furniture</td>\n",
       "      <td>Chairs</td>\n",
       "      <td>Global Leather Highback Executive Chair with P...</td>\n",
       "      <td>281.372</td>\n",
       "    </tr>\n",
       "    <tr>\n",
       "      <th>430</th>\n",
       "      <td>US-2017-123750</td>\n",
       "      <td>2017-04-15</td>\n",
       "      <td>2017-04-21</td>\n",
       "      <td>Standard Class</td>\n",
       "      <td>RB-19795</td>\n",
       "      <td>Ross Baird</td>\n",
       "      <td>Home Office</td>\n",
       "      <td>Gastonia</td>\n",
       "      <td>North Carolina</td>\n",
       "      <td>28052</td>\n",
       "      <td>South</td>\n",
       "      <td>TEC-AC-10004659</td>\n",
       "      <td>Technology</td>\n",
       "      <td>Accessories</td>\n",
       "      <td>Imation Secure+ Hardware Encrypted USB 2.0 Fla...</td>\n",
       "      <td>408.744</td>\n",
       "    </tr>\n",
       "    <tr>\n",
       "      <th>431</th>\n",
       "      <td>US-2017-123750</td>\n",
       "      <td>2017-04-15</td>\n",
       "      <td>2017-04-21</td>\n",
       "      <td>Standard Class</td>\n",
       "      <td>RB-19795</td>\n",
       "      <td>Ross Baird</td>\n",
       "      <td>Home Office</td>\n",
       "      <td>Gastonia</td>\n",
       "      <td>North Carolina</td>\n",
       "      <td>28052</td>\n",
       "      <td>South</td>\n",
       "      <td>TEC-AC-10004659</td>\n",
       "      <td>Technology</td>\n",
       "      <td>Accessories</td>\n",
       "      <td>Imation Secure+ Hardware Encrypted USB 2.0 Fla...</td>\n",
       "      <td>291.960</td>\n",
       "    </tr>\n",
       "  </tbody>\n",
       "</table>\n",
       "</div>"
      ],
      "text/plain": [
       "            Order_ID Order_Date  Ship_Date       Ship_Mode Customer_ID  \\\n",
       "6498  CA-2016-103135 2016-07-24 2016-07-28  Standard Class    SS-20515   \n",
       "6500  CA-2016-103135 2016-07-24 2016-07-28  Standard Class    SS-20515   \n",
       "350   CA-2017-129714 2017-09-01 2017-09-03     First Class    AB-10060   \n",
       "352   CA-2017-129714 2017-09-01 2017-09-03     First Class    AB-10060   \n",
       "1300  CA-2017-137043 2017-12-23 2017-12-25    Second Class    LC-17140   \n",
       "1301  CA-2017-137043 2017-12-23 2017-12-25    Second Class    LC-17140   \n",
       "9168  CA-2017-140571 2017-03-15 2017-03-19  Standard Class    SJ-20125   \n",
       "9169  CA-2017-140571 2017-03-15 2017-03-19  Standard Class    SJ-20125   \n",
       "7881  CA-2018-118017 2018-12-03 2018-12-06    Second Class    LC-16870   \n",
       "7882  CA-2018-118017 2018-12-03 2018-12-06    Second Class    LC-16870   \n",
       "3183  CA-2018-152912 2018-11-09 2018-11-12    Second Class    BM-11650   \n",
       "3184  CA-2018-152912 2018-11-09 2018-11-12    Second Class    BM-11650   \n",
       "3405  US-2015-150119 2015-04-23 2015-04-27  Standard Class    LB-16795   \n",
       "3406  US-2015-150119 2015-04-23 2015-04-27  Standard Class    LB-16795   \n",
       "430   US-2017-123750 2017-04-15 2017-04-21  Standard Class    RB-19795   \n",
       "431   US-2017-123750 2017-04-15 2017-04-21  Standard Class    RB-19795   \n",
       "\n",
       "        Customer_Name      Segment           City           State Postal_Code  \\\n",
       "6498  Shirley Schmidt  Home Office     Louisville        Kentucky       40214   \n",
       "6500  Shirley Schmidt  Home Office     Louisville        Kentucky       40214   \n",
       "350   Adam Bellavance  Home Office  New York City        New York       10009   \n",
       "352   Adam Bellavance  Home Office  New York City        New York       10009   \n",
       "1300     Logan Currie     Consumer    Springfield        Virginia       22153   \n",
       "1301     Logan Currie     Consumer    Springfield        Virginia       22153   \n",
       "9168    Sanjit Jacobs  Home Office        Jackson     Mississippi       39212   \n",
       "9169    Sanjit Jacobs  Home Office        Jackson     Mississippi       39212   \n",
       "7881    Lena Cacioppo     Consumer       Thornton        Colorado       80229   \n",
       "7882    Lena Cacioppo     Consumer       Thornton        Colorado       80229   \n",
       "3183       Brian Moss    Corporate       Columbia        Maryland       21044   \n",
       "3184       Brian Moss    Corporate       Columbia        Maryland       21044   \n",
       "3405   Laurel Beltran  Home Office       Columbus            Ohio       43229   \n",
       "3406   Laurel Beltran  Home Office       Columbus            Ohio       43229   \n",
       "430        Ross Baird  Home Office       Gastonia  North Carolina       28052   \n",
       "431        Ross Baird  Home Office       Gastonia  North Carolina       28052   \n",
       "\n",
       "     Region       Product_ID         Category Sub_Category  \\\n",
       "6498  South  OFF-BI-10000069  Office Supplies      Binders   \n",
       "6500  South  OFF-BI-10000069  Office Supplies      Binders   \n",
       "350    East  OFF-PA-10001970  Office Supplies        Paper   \n",
       "352    East  OFF-PA-10001970  Office Supplies        Paper   \n",
       "1300  South  FUR-FU-10003664        Furniture  Furnishings   \n",
       "1301  South  FUR-FU-10003664        Furniture  Furnishings   \n",
       "9168  South  OFF-PA-10001954  Office Supplies        Paper   \n",
       "9169  South  OFF-PA-10001954  Office Supplies        Paper   \n",
       "7881   West  TEC-AC-10002006       Technology  Accessories   \n",
       "7882   West  TEC-AC-10002006       Technology  Accessories   \n",
       "3183   East  OFF-ST-10003208  Office Supplies      Storage   \n",
       "3184   East  OFF-ST-10003208  Office Supplies      Storage   \n",
       "3405   East  FUR-CH-10002965        Furniture       Chairs   \n",
       "3406   East  FUR-CH-10002965        Furniture       Chairs   \n",
       "430   South  TEC-AC-10004659       Technology  Accessories   \n",
       "431   South  TEC-AC-10004659       Technology  Accessories   \n",
       "\n",
       "                                           Product_Name     Sales  \n",
       "6498  GBC Prepunched Paper, 19-Hole, for Binding Sys...   135.090  \n",
       "6500  GBC Prepunched Paper, 19-Hole, for Binding Sys...    90.060  \n",
       "350                                          Xerox 1881    24.560  \n",
       "352                                          Xerox 1881    49.120  \n",
       "1300  Electrix Architects Clamp-On Swing Arm Lamp, B...   572.760  \n",
       "1301  Electrix Architects Clamp-On Swing Arm Lamp, B...   286.380  \n",
       "9168                                         Xerox 1964   319.760  \n",
       "9169                                         Xerox 1964    45.680  \n",
       "7881                   Memorex Micro Travel Drive 16 GB    76.752  \n",
       "7882                   Memorex Micro Travel Drive 16 GB   102.336  \n",
       "3183                 Adjustable Depth Letter/Legal Cart  1633.140  \n",
       "3184                 Adjustable Depth Letter/Legal Cart   544.380  \n",
       "3405  Global Leather Highback Executive Chair with P...   281.372  \n",
       "3406  Global Leather Highback Executive Chair with P...   281.372  \n",
       "430   Imation Secure+ Hardware Encrypted USB 2.0 Fla...   408.744  \n",
       "431   Imation Secure+ Hardware Encrypted USB 2.0 Fla...   291.960  "
      ]
     },
     "metadata": {},
     "output_type": "display_data"
    }
   ],
   "source": [
    "#Partial duplicates check\n",
    "subset_cols = [c for c in ['Order_ID','Product_ID'] if c in df.columns]\n",
    "if subset_cols:\n",
    "    dup_subset_count = df.duplicated(subset=subset_cols).sum()\n",
    "    print(f\"Duplicates by {subset_cols}: {dup_subset_count}\")\n",
    "    if dup_subset_count:\n",
    "        display(df[df.duplicated(subset=subset_cols, keep=False)].sort_values(subset_cols).head(20))"
   ]
  },
  {
   "cell_type": "code",
   "execution_count": 28,
   "id": "d310b3c5-023a-4e24-a1f6-e83c6407cd10",
   "metadata": {},
   "outputs": [],
   "source": [
    "#  Drop true duplicates (identical rows)\n",
    "df = df.drop_duplicates()\n",
    "\n",
    "#  Aggregate sales if same Order_ID & Product_ID appear multiple times\n",
    "df = df.groupby([\n",
    "    'Order_ID','Order_Date','Ship_Date','Ship_Mode',\n",
    "    'Customer_ID','Customer_Name','Segment','City','State',\n",
    "    'Postal_Code','Region','Product_ID','Category',\n",
    "    'Sub_Category','Product_Name'\n",
    "], as_index=False).agg({\n",
    "    'Sales':'sum'\n",
    "})"
   ]
  },
  {
   "cell_type": "code",
   "execution_count": 29,
   "id": "91c1e674-ea5a-4754-896d-07c1edaea512",
   "metadata": {},
   "outputs": [
    {
     "name": "stdout",
     "output_type": "stream",
     "text": [
      "Remaining duplicates by Order_ID & Product_ID: 0\n"
     ]
    }
   ],
   "source": [
    "# Check again\n",
    "dup_subset_count = df.duplicated(subset=['Order_ID','Product_ID']).sum()\n",
    "print(\"Remaining duplicates by Order_ID & Product_ID:\", dup_subset_count)"
   ]
  },
  {
   "cell_type": "markdown",
   "id": "9b5405b7-9bae-4ee0-bc67-f48a9ac8580c",
   "metadata": {},
   "source": [
    "<h1 style=\"font-size:25px; color:black;\">Add helper columns for EDA</h1>"
   ]
  },
  {
   "cell_type": "code",
   "execution_count": 30,
   "id": "94648c57-ed35-4987-a16a-262c83fde35b",
   "metadata": {},
   "outputs": [
    {
     "name": "stdout",
     "output_type": "stream",
     "text": [
      "Helpers added: Order_Year, Order_Month, Shipping_Days (if dates present)\n"
     ]
    }
   ],
   "source": [
    "#Derived columns\n",
    "if 'Order_Date' in df.columns:\n",
    "    df['Order_Year'] = df['Order_Date'].dt.year\n",
    "    df['Order_Month'] = df['Order_Date'].dt.to_period('M').dt.to_timestamp()\n",
    "if 'Order_Date' in df.columns and 'Ship_Date' in df.columns:\n",
    "    df['Shipping_Days'] = (df['Ship_Date'] - df['Order_Date']).dt.days\n",
    "\n",
    "print(\"Helpers added: Order_Year, Order_Month, Shipping_Days (if dates present)\")"
   ]
  },
  {
   "cell_type": "code",
   "execution_count": 31,
   "id": "57b47b99-1355-4cbc-829a-ef424ee306d2",
   "metadata": {},
   "outputs": [
    {
     "name": "stdout",
     "output_type": "stream",
     "text": [
      "  Order_Date  Order_Year Order_Month  Ship_Date  Shipping_Days\n",
      "0 2015-09-07        2015  2015-09-01 2015-09-13              6\n",
      "1 2015-07-08        2015  2015-07-01 2015-07-12              4\n",
      "2 2015-07-08        2015  2015-07-01 2015-07-12              4\n",
      "3 2015-03-14        2015  2015-03-01 2015-03-18              4\n",
      "4 2015-01-28        2015  2015-01-01 2015-02-03              6\n",
      "5 2015-04-08        2015  2015-04-01 2015-04-15              7\n",
      "6 2015-04-08        2015  2015-04-01 2015-04-15              7\n",
      "7 2015-05-25        2015  2015-05-01 2015-05-29              4\n",
      "8 2015-04-18        2015  2015-04-01 2015-04-22              4\n",
      "9 2015-04-18        2015  2015-04-01 2015-04-22              4\n",
      "Order_Year                int32\n",
      "Order_Month      datetime64[ns]\n",
      "Shipping_Days             int64\n",
      "dtype: object\n",
      "Year range: 2015 to 2018\n",
      "Month range: 2015-01-01 00:00:00 to 2018-12-01 00:00:00\n",
      "Shipping days min/max: 0 / 7\n"
     ]
    }
   ],
   "source": [
    "# Look at the new columns\n",
    "print(df[['Order_Date','Order_Year','Order_Month','Ship_Date','Shipping_Days']].head(10))\n",
    "\n",
    "# Confirm datatypes\n",
    "print(df.dtypes[['Order_Year','Order_Month','Shipping_Days']])\n",
    "\n",
    "# Basic sanity check\n",
    "print(\"Year range:\", df['Order_Year'].min(), \"to\", df['Order_Year'].max())\n",
    "print(\"Month range:\", df['Order_Month'].min(), \"to\", df['Order_Month'].max())\n",
    "print(\"Shipping days min/max:\", df['Shipping_Days'].min(), \"/\", df['Shipping_Days'].max())\n"
   ]
  },
  {
   "cell_type": "markdown",
   "id": "bb4f67b8-5a9f-4b52-aae6-3223dbaf9f63",
   "metadata": {},
   "source": [
    "<h1 style=\"font-size:25px; color:black;\"> Quick KPIs</h1>"
   ]
  },
  {
   "cell_type": "code",
   "execution_count": 33,
   "id": "0cc672d7-a62a-4612-9551-53de5665ed50",
   "metadata": {},
   "outputs": [
    {
     "data": {
      "text/html": [
       "<div>\n",
       "<style scoped>\n",
       "    .dataframe tbody tr th:only-of-type {\n",
       "        vertical-align: middle;\n",
       "    }\n",
       "\n",
       "    .dataframe tbody tr th {\n",
       "        vertical-align: top;\n",
       "    }\n",
       "\n",
       "    .dataframe thead th {\n",
       "        text-align: right;\n",
       "    }\n",
       "</style>\n",
       "<table border=\"1\" class=\"dataframe\">\n",
       "  <thead>\n",
       "    <tr style=\"text-align: right;\">\n",
       "      <th></th>\n",
       "      <th>Value</th>\n",
       "    </tr>\n",
       "  </thead>\n",
       "  <tbody>\n",
       "    <tr>\n",
       "      <th>Total_Sales</th>\n",
       "      <td>2252326.0407</td>\n",
       "    </tr>\n",
       "    <tr>\n",
       "      <th>Unique_Orders</th>\n",
       "      <td>4916</td>\n",
       "    </tr>\n",
       "    <tr>\n",
       "      <th>Unique_Customers</th>\n",
       "      <td>793</td>\n",
       "    </tr>\n",
       "    <tr>\n",
       "      <th>Unique_Products</th>\n",
       "      <td>1860</td>\n",
       "    </tr>\n",
       "    <tr>\n",
       "      <th>First_Order</th>\n",
       "      <td>2015-01-03 00:00:00</td>\n",
       "    </tr>\n",
       "    <tr>\n",
       "      <th>Last_Order</th>\n",
       "      <td>2018-12-30 00:00:00</td>\n",
       "    </tr>\n",
       "  </tbody>\n",
       "</table>\n",
       "</div>"
      ],
      "text/plain": [
       "                                Value\n",
       "Total_Sales              2252326.0407\n",
       "Unique_Orders                    4916\n",
       "Unique_Customers                  793\n",
       "Unique_Products                  1860\n",
       "First_Order       2015-01-03 00:00:00\n",
       "Last_Order        2018-12-30 00:00:00"
      ]
     },
     "execution_count": 33,
     "metadata": {},
     "output_type": "execute_result"
    }
   ],
   "source": [
    "kpi = {\n",
    "    \"Total_Sales\": df['Sales'].sum(),\n",
    "    \"Unique_Orders\": df['Order_ID'].nunique() if 'Order_ID' in df.columns else np.nan,\n",
    "    \"Unique_Customers\": df['Customer_ID'].nunique() if 'Customer_ID' in df.columns else np.nan,\n",
    "    \"Unique_Products\": df['Product_ID'].nunique() if 'Product_ID' in df.columns else np.nan,\n",
    "    \"First_Order\": df['Order_Date'].min(),\n",
    "    \"Last_Order\": df['Order_Date'].max()\n",
    "}\n",
    "\n",
    "# Display KPIs as a DataFrame\n",
    "kpi_df = pd.DataFrame.from_dict(kpi, orient='index', columns=['Value'])\n",
    "kpi_df"
   ]
  },
  {
   "cell_type": "markdown",
   "id": "e3632a99-1f94-4200-830e-09a25e1543de",
   "metadata": {},
   "source": [
    "<h1 style=\"font-size:35px; color:black;\">Explolatory Data Analysis(EDA)</h1>"
   ]
  },
  {
   "cell_type": "code",
   "execution_count": 35,
   "id": "71e60fb1-4159-448e-b65d-c4d1334b72b5",
   "metadata": {},
   "outputs": [],
   "source": [
    "# plotting helper (bar chart)\n",
    "def bar_chart(x, y, title, xlabel='', ylabel='Sales', rotation=0, figsize=(10,5), save=None):\n",
    "    plt.figure(figsize=figsize)\n",
    "    plt.bar(x, y)\n",
    "    plt.title(title)\n",
    "    plt.xlabel(xlabel)\n",
    "    plt.ylabel(ylabel)\n",
    "    plt.xticks(rotation=rotation)\n",
    "    plt.tight_layout()\n",
    "    if save:\n",
    "        plt.savefig(save, dpi=150)\n",
    "    plt.show()"
   ]
  },
  {
   "cell_type": "markdown",
   "id": "f5b0f63b-2b38-4d18-8c17-37ca9b485b57",
   "metadata": {},
   "source": [
    "<h1 style=\"font-size:20px; color:black; text-align:center;\">Sales by Segment (bar)</h1>"
   ]
  },
  {
   "cell_type": "code",
   "execution_count": 36,
   "id": "1eb7c5d4-9995-41ec-b99e-6f3b3a3ac782",
   "metadata": {
    "scrolled": true
   },
   "outputs": [
    {
     "name": "stdout",
     "output_type": "stream",
     "text": [
      "       Segment         Sales\n",
      "0     Consumer  1.146708e+06\n",
      "1    Corporate  6.822118e+05\n",
      "2  Home Office  4.234061e+05\n"
     ]
    },
    {
     "data": {
      "image/png": "[encoded data removed]",
      "text/plain": [
       "<Figure size 1000x500 with 1 Axes>"
      ]
     },
     "metadata": {},
     "output_type": "display_data"
    }
   ],
   "source": [
    "seg_sales = df.groupby('Segment', as_index=False)['Sales'].sum().sort_values('Sales', ascending=False)\n",
    "print(seg_sales)\n",
    "bar_chart(seg_sales['Segment'], seg_sales['Sales'], \"Sales by Segment\", xlabel=\"Segment\")"
   ]
  },
  {
   "cell_type": "markdown",
   "id": "426a70a2-eaeb-4fc5-8ec8-171897ee339e",
   "metadata": {},
   "source": [
    "<h1 style=\"font-size:20px; color:black; text-align:center;\">Sales by Ship Mode (bar)</h1>"
   ]
  },
  {
   "cell_type": "code",
   "execution_count": 39,
   "id": "66442280-b182-49dc-9ad4-047d6b125c92",
   "metadata": {},
   "outputs": [
    {
     "name": "stdout",
     "output_type": "stream",
     "text": [
      "        Ship_Mode         Sales\n",
      "3  Standard Class  1.332336e+06\n",
      "2    Second Class  4.491990e+05\n",
      "0     First Class  3.455723e+05\n",
      "1        Same Day  1.252190e+05\n"
     ]
    },
    {
     "data": {
      "image/png": "[encoded data removed]",
      "text/plain": [
       "<Figure size 1000x500 with 1 Axes>"
      ]
     },
     "metadata": {},
     "output_type": "display_data"
    }
   ],
   "source": [
    "ship_sales = df.groupby('Ship_Mode', as_index=False)['Sales'].sum().sort_values('Sales', ascending=False)\n",
    "print(ship_sales)\n",
    "bar_chart(ship_sales['Ship_Mode'], ship_sales['Sales'], \"Sales by Ship Mode\", xlabel=\"Ship Mode\")"
   ]
  },
  {
   "cell_type": "markdown",
   "id": "1c8059ae-6452-46f7-bc93-c4e286666ba4",
   "metadata": {},
   "source": [
    "<h1 style=\"font-size:20px; color:black; text-align:center;\">Sales by Category (bar)</h1>"
   ]
  },
  {
   "cell_type": "code",
   "execution_count": 40,
   "id": "61bb3ab0-3f24-480f-a7e6-257163bdff0a",
   "metadata": {},
   "outputs": [
    {
     "name": "stdout",
     "output_type": "stream",
     "text": [
      "          Category        Sales\n",
      "2       Technology  825856.1130\n",
      "0        Furniture  723257.1037\n",
      "1  Office Supplies  703212.8240\n"
     ]
    },
    {
     "data": {
      "image/png": "[encoded data removed]",
      "text/plain": [
       "<Figure size 1000x500 with 1 Axes>"
      ]
     },
     "metadata": {},
     "output_type": "display_data"
    }
   ],
   "source": [
    "cat_sales = df.groupby('Category', as_index=False)['Sales'].sum().sort_values('Sales', ascending=False)\n",
    "print(cat_sales)\n",
    "bar_chart(cat_sales['Category'], cat_sales['Sales'], \"Sales by Category\", xlabel=\"Category\")"
   ]
  },
  {
   "cell_type": "markdown",
   "id": "d0e50d59-d550-4e44-a14c-73e586d6325a",
   "metadata": {},
   "source": [
    "<h1 style=\"font-size:20px; color:black; text-align:center;\">Top 10 Sub-Categories by Sales (bar)</h1>"
   ]
  },
  {
   "cell_type": "code",
   "execution_count": 41,
   "id": "9138aba3-4a30-4b86-8aa3-4c5fca1c2217",
   "metadata": {},
   "outputs": [
    {
     "name": "stdout",
     "output_type": "stream",
     "text": [
      "   Sub_Category        Sales\n",
      "13       Phones  326487.6980\n",
      "5        Chairs  321826.1590\n",
      "14      Storage  217779.1020\n",
      "16       Tables  202810.6280\n",
      "3       Binders  200028.7850\n",
      "11     Machines  189238.6310\n",
      "0   Accessories  163881.6900\n",
      "6       Copiers  146248.0940\n",
      "4     Bookcases  109408.2987\n",
      "1    Appliances  104075.4630\n"
     ]
    },
    {
     "data": {
      "image/png": "[encoded data removed]",
      "text/plain": [
       "<Figure size 1200x600 with 1 Axes>"
      ]
     },
     "metadata": {},
     "output_type": "display_data"
    }
   ],
   "source": [
    "subcat_sales = df.groupby('Sub_Category', as_index=False)['Sales'].sum().sort_values('Sales', ascending=False).head(10)\n",
    "print(subcat_sales)\n",
    "bar_chart(subcat_sales['Sub_Category'], subcat_sales['Sales'], \"Top 10 Sub-Categories by Sales\", xlabel=\"Sub-Category\", rotation=45, figsize=(12,6))"
   ]
  },
  {
   "cell_type": "markdown",
   "id": "c111da54-2b17-4d87-ae9f-08397430272b",
   "metadata": {},
   "source": [
    "<h1 style=\"font-size:20px; color:black; text-align:center;\">Top 10 States by Sales (bar)</h1>"
   ]
  },
  {
   "cell_type": "code",
   "execution_count": 42,
   "id": "49f6974e-25f3-4d90-8237-c7b4cd634459",
   "metadata": {},
   "outputs": [
    {
     "name": "stdout",
     "output_type": "stream",
     "text": [
      "           State        Sales\n",
      "3     California  446306.4635\n",
      "30      New York  306361.1470\n",
      "41         Texas  168572.5322\n",
      "44    Washington  135206.8500\n",
      "36  Pennsylvania  116276.6500\n",
      "8        Florida   88436.5320\n",
      "11      Illinois   79236.5170\n",
      "20      Michigan   76136.0740\n",
      "33          Ohio   74848.9780\n",
      "43      Virginia   70636.7200\n"
     ]
    },
    {
     "data": {
      "image/png": "[encoded data removed]",
      "text/plain": [
       "<Figure size 1200x600 with 1 Axes>"
      ]
     },
     "metadata": {},
     "output_type": "display_data"
    }
   ],
   "source": [
    "state_sales = df.groupby('State', as_index=False)['Sales'].sum().sort_values('Sales', ascending=False).head(10)\n",
    "print(state_sales)\n",
    "bar_chart(state_sales['State'], state_sales['Sales'], \"Top 10 States by Sales\", xlabel=\"State\", rotation=45, figsize=(12,6))"
   ]
  },
  {
   "cell_type": "markdown",
   "id": "a58c5de5-2275-4db6-a2cd-e523b887c40f",
   "metadata": {},
   "source": [
    "<h1 style=\"font-size:20px; color:black; text-align:center;\">Top 10 Customers by Sales (bar)</h1>"
   ]
  },
  {
   "cell_type": "code",
   "execution_count": 43,
   "id": "8bbf8625-c7e0-4c86-af14-9adb4a78e2bf",
   "metadata": {},
   "outputs": [
    {
     "name": "stdout",
     "output_type": "stream",
     "text": [
      "          Customer_Name      Sales\n",
      "686         Sean Miller  25043.050\n",
      "730        Tamara Chand  19052.218\n",
      "622        Raymond Buch  15117.339\n",
      "757        Tom Ashbrook  14595.620\n",
      "6         Adrian Barton  14473.571\n",
      "441        Ken Lonsdale  14175.229\n",
      "671        Sanjit Chand  14142.334\n",
      "334        Hunter Lopez  12873.298\n",
      "672        Sanjit Engle  12209.438\n",
      "156  Christopher Conant  12129.072\n"
     ]
    },
    {
     "data": {
      "image/png": "[encoded data removed]",
      "text/plain": [
       "<Figure size 1200x600 with 1 Axes>"
      ]
     },
     "metadata": {},
     "output_type": "display_data"
    }
   ],
   "source": [
    "cust_sales = df.groupby('Customer_Name', as_index=False)['Sales'].sum().sort_values('Sales', ascending=False).head(10)\n",
    "print(cust_sales)\n",
    "bar_chart(cust_sales['Customer_Name'], cust_sales['Sales'], \"Top 10 Customers by Sales\", xlabel=\"Customer\", rotation=45, figsize=(12,6))"
   ]
  },
  {
   "cell_type": "markdown",
   "id": "19e1420c-bb90-4326-8e34-8d833921c62f",
   "metadata": {},
   "source": [
    "<h1 style=\"font-size:20px; color:black; text-align:center;\">Shipping Days distribution (bar of counts)</h1>"
   ]
  },
  {
   "cell_type": "code",
   "execution_count": 44,
   "id": "d1aedfea-bde7-4764-8a12-c2b413c9492a",
   "metadata": {},
   "outputs": [
    {
     "name": "stdout",
     "output_type": "stream",
     "text": [
      "   Shipping_Days  Orders\n",
      "0              0     514\n",
      "1              1     363\n",
      "2              2    1292\n",
      "3              3     976\n",
      "4              4    2706\n",
      "5              5    2146\n",
      "6              6    1169\n",
      "7              7     615\n"
     ]
    },
    {
     "data": {
      "image/png": "[encoded data removed]",
      "text/plain": [
       "<Figure size 1000x400 with 1 Axes>"
      ]
     },
     "metadata": {},
     "output_type": "display_data"
    }
   ],
   "source": [
    "if 'Shipping_Days' in df.columns:\n",
    "    shipdays = df['Shipping_Days'].value_counts().sort_index().reset_index()\n",
    "    shipdays.columns = ['Shipping_Days','Orders']\n",
    "    print(shipdays.head(20))\n",
    "    # show as bar (x as string for nicer x-axis)\n",
    "    bar_chart(shipdays['Shipping_Days'].astype(str), shipdays['Orders'], \"Shipping Days Distribution\", xlabel=\"Shipping Days\", rotation=0, figsize=(10,4))\n",
    "else:\n",
    "    print(\"Shipping_Days not available to plot.\")"
   ]
  },
  {
   "cell_type": "markdown",
   "id": "9de40d4e-9e58-49b8-a04f-4bbba09e80b1",
   "metadata": {},
   "source": [
    "<h1 style=\"font-size:20px; color:black; text-align:center;\">Monthly Sales Trend — line chart</h1>"
   ]
  },
  {
   "cell_type": "code",
   "execution_count": 45,
   "id": "573b1d6a-4965-4e26-8967-b6e22909f34a",
   "metadata": {},
   "outputs": [
    {
     "name": "stdout",
     "output_type": "stream",
     "text": [
      "  Order_Date      Sales\n",
      "0 2015-01-01  14205.707\n",
      "1 2015-02-01   4519.892\n",
      "2 2015-03-01  55205.797\n",
      "3 2015-04-01  27625.483\n",
      "4 2015-05-01  23644.303\n"
     ]
    },
    {
     "data": {
      "image/png": "[encoded data removed]",
      "text/plain": [
       "<Figure size 1200x500 with 1 Axes>"
      ]
     },
     "metadata": {},
     "output_type": "display_data"
    }
   ],
   "source": [
    "if 'Order_Date' in df.columns:\n",
    "    monthly = df.set_index('Order_Date').resample('MS')['Sales'].sum().reset_index()\n",
    "    print(monthly.head())\n",
    "    plt.figure(figsize=(12,5))\n",
    "    plt.plot(monthly['Order_Date'], monthly['Sales'])\n",
    "    plt.title(\"Monthly Sales Trend\")\n",
    "    plt.xlabel(\"Month\")\n",
    "    plt.ylabel(\"Sales\")\n",
    "    plt.tight_layout()\n",
    "    plt.show()\n",
    "else:\n",
    "    print(\"Order_Date missing.\")\n"
   ]
  },
  {
   "cell_type": "markdown",
   "id": "88899a0d-177c-4d35-b506-1a289dbbe4c8",
   "metadata": {},
   "source": [
    "<h1 style=\"font-size:20px; color:black; text-align:center;\">Augmented Dickey–Fuller (ADF) test</h1>"
   ]
  },
  {
   "cell_type": "code",
   "execution_count": 49,
   "id": "45108f86-b0e1-412e-8d1c-7efd9e654b81",
   "metadata": {},
   "outputs": [
    {
     "name": "stdout",
     "output_type": "stream",
     "text": [
      "Order_Date\n",
      "2015-01-01    14205.707\n",
      "2015-02-01     4519.892\n",
      "2015-03-01    55205.797\n",
      "2015-04-01    27625.483\n",
      "2015-05-01    23644.303\n",
      "Freq: MS, Name: Sales, dtype: float64\n",
      "ADF Statistic: -4.424851432311456\n",
      "p-value: 0.00026817299744329973\n",
      "Critical Value 1%: -3.5778480370438146\n",
      "Critical Value 5%: -2.925338105429433\n",
      "Critical Value 10%: -2.6007735310095064\n",
      "The series is stationary (reject null hypothesis).\n"
     ]
    }
   ],
   "source": [
    "if 'Order_Date' in df.columns:\n",
    "    monthly = df.set_index('Order_Date').resample('MS')['Sales'].sum()\n",
    "    print(monthly.head())\n",
    "else:\n",
    "    print(\"Order_Date missing.\")\n",
    "    \n",
    "# Apply Augmented Dickey-Fuller test\n",
    "result = adfuller(monthly.dropna())\n",
    "\n",
    "print(\"ADF Statistic:\", result[0])\n",
    "print(\"p-value:\", result[1])\n",
    "for key, value in result[4].items():\n",
    "    print(f\"Critical Value {key}: {value}\")\n",
    "\n",
    "#Interpretation\n",
    "if result[1] <= 0.05:\n",
    "    print(\"The series is stationary (reject null hypothesis).\")\n",
    "else:\n",
    "    print(\"The series is NOT stationary (fail to reject null hypothesis).\")"
   ]
  },
  {
   "cell_type": "markdown",
   "id": "f35948ce-fa2d-4b9a-853f-2f32548860e0",
   "metadata": {},
   "source": [
    "Here I have already tested and found that my monthly sales series is stationary **(ADF stat < critical values, p-value < 0.05)**."
   ]
  },
  {
   "cell_type": "markdown",
   "id": "7b934774-752c-4e35-bdef-907fab9d4cbf",
   "metadata": {},
   "source": [
    "<h1 style=\"font-size:30px; color:black; text-align:center;\">Overall Insight</h1>"
   ]
  },
  {
   "cell_type": "markdown",
   "id": "8c19daea-9e80-496e-a597-f96d13e4eae4",
   "metadata": {},
   "source": [
    "In this  business is anchored by **Consumer** segment demand and **Technology products**, with **Phones and Chairs** acting as flagship sub-categories. Geographically, **California and New York** dominate revenue. Operationally, **Standard Class shipping accounts for ~60% of sales**, and the typical delivery window is **4–5 days (avg ≈ 4 days)**, which sets clear expectations for service levels. **The monthly sales series is statistically stationary (ADF p < 0.001)**, which simplifies time-series modeling and forecasting — a solid foundation for building reliable forecasts and running scenario tests (e.g., “what if” analyses by segment, category, or shipping policy)."
   ]
  }
 ],
 "metadata": {
  "kernelspec": {
   "display_name": "Python 3 (ipykernel)",
   "language": "python",
   "name": "python3"
  },
  "language_info": {
   "codemirror_mode": {
    "name": "ipython",
    "version": 3
   },
   "file_extension": ".py",
   "mimetype": "text/x-python",
   "name": "python",
   "nbconvert_exporter": "python",
   "pygments_lexer": "ipython3",
   "version": "3.12.4"
  }
 },
 "nbformat": 4,
 "nbformat_minor": 5
}
